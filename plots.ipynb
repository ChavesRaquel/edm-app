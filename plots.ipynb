{
 "cells": [
  {
   "cell_type": "code",
   "execution_count": 1,
   "metadata": {},
   "outputs": [],
   "source": [
    "import streamlit as st\n",
    "import csv\n",
    "import pandas as pd\n",
    "#import plotly.express as px\n",
    "import folium\n",
    "from folium import plugins"
   ]
  },
  {
   "cell_type": "code",
   "execution_count": 2,
   "metadata": {},
   "outputs": [],
   "source": [
    "def normalize_df(df):\n",
    "    df[\"lat\"] = [float(df[\"geo_point_2d\"][i].split(\",\")[0]) for i in range(len(df[\"geo_point_2d\"]))]\n",
    "    df[\"lon\"] = [float(df[\"geo_point_2d\"][i].split(\",\")[1]) for i in range(len(df[\"geo_point_2d\"]))]\n",
    "\n",
    "    return df"
   ]
  },
  {
   "attachments": {},
   "cell_type": "markdown",
   "metadata": {},
   "source": [
    "## BICICLETAS"
   ]
  },
  {
   "cell_type": "code",
   "execution_count": 4,
   "metadata": {},
   "outputs": [],
   "source": [
    "bicis = pd.read_csv('aparcaments-bicicletes-aparcamientos-bicicletas.csv', sep = ';')\n",
    "bicis = bicis.drop(columns = ['OBJECTID','created_user','created_date','last_edited_user','last_edited_date','geo_shape'])\n",
    "bicis = normalize_df(bicis)\n",
    "bicis = bicis.drop(columns = ['geo_point_2d'])"
   ]
  },
  {
   "cell_type": "code",
   "execution_count": 4,
   "metadata": {},
   "outputs": [],
   "source": [
    "mapa = folium.Map(location=[39.4697500, -0.3773900], zoom_start=12)\n",
    "cluster = plugins.MarkerCluster().add_to(mapa)\n",
    "\n",
    "for index, row in bicis.iterrows():\n",
    "    lat = row['lat']\n",
    "    lon = row['lon']\n",
    "    text = 'Numero de plazas: '+str(row['Nombre Places / Número Plazas'])\n",
    "    folium.Marker(location=[lat,lon], popup=text, icon = folium.Icon(color='orange',prefix = 'fa', icon = 'bicycle')).add_to(cluster)\n",
    "plugins.Geocoder().add_to(mapa)\n",
    "\n",
    "mapa.save('mapa-bicicletas.html')"
   ]
  },
  {
   "attachments": {},
   "cell_type": "markdown",
   "metadata": {},
   "source": [
    "## MOTOS"
   ]
  },
  {
   "cell_type": "code",
   "execution_count": 5,
   "metadata": {},
   "outputs": [],
   "source": [
    "motos = pd.read_csv('aparcament-per-a-motos-aparcamiento-para-motos.csv', sep = ';')\n",
    "motos = motos.drop(columns = ['Carrer / Calle','OBJECTID','created_user','created_date','last_edited_user','last_edited_date','geo_shape'])\n",
    "motos = normalize_df(motos)\n",
    "motos = motos.drop(columns = ['geo_point_2d'])"
   ]
  },
  {
   "cell_type": "code",
   "execution_count": null,
   "metadata": {},
   "outputs": [],
   "source": [
    "mapa = folium.Map(location=[39.4697500, -0.3773900], zoom_start=12)\n",
    "cluster = plugins.MarkerCluster().add_to(mapa)\n",
    "\n",
    "for index, row in motos.iterrows():\n",
    "    lat = row['lat']\n",
    "    lon = row['lon']\n",
    "    text = 'Numero de plazas: '+str(int(row['Nombre Places / Número Plazas']))\n",
    "    folium.Marker(location=[lat,lon], popup=text, icon = folium.Icon(color='green',prefix = 'fa', icon = 'motorcycle')).add_to(cluster)\n",
    "plugins.Geocoder().add_to(mapa)\n",
    "\n",
    "mapa.save('mapa-motos.html')"
   ]
  },
  {
   "attachments": {},
   "cell_type": "markdown",
   "metadata": {},
   "source": [
    "## TURISMOS"
   ]
  },
  {
   "cell_type": "code",
   "execution_count": 6,
   "metadata": {},
   "outputs": [],
   "source": [
    "ora = pd.read_csv(\"aparcaments-ora-aparcamientos-ora.csv\",sep = \";\")\n",
    "mov = pd.read_csv(\"aparcaments-persones-mobilitat-reduida-aparcamientos-personas-movilidad-reducida.csv\",sep=\";\")\n",
    "vados = pd.read_csv(\"guals-vados.csv\",sep=\";\")\n",
    "parkings = pd.read_csv(\"parkings.csv\",sep=\";\")\n",
    "carg = pd.read_csv(\"zones-carrega-descarrega-zonas-carga-descarga.csv\",sep=\";\")"
   ]
  },
  {
   "cell_type": "code",
   "execution_count": 8,
   "metadata": {},
   "outputs": [],
   "source": [
    "ora = normalize_df(ora)\n",
    "mov = normalize_df(mov)\n",
    "vados = normalize_df(vados)\n",
    "carg = normalize_df(carg)\n",
    "parkings = normalize_df(parkings)"
   ]
  },
  {
   "cell_type": "code",
   "execution_count": 11,
   "metadata": {},
   "outputs": [],
   "source": [
    "m = folium.Map(location=[39.469, -0.377],zoom_start=13)\n",
    "plugins.Geocoder().add_to(m)\n",
    "\n",
    "cluster1 = plugins.MarkerCluster().add_to(folium.FeatureGroup(name = 'Vados').add_to(m))\n",
    "for lat,lon in zip(vados[\"lat\"],vados[\"lon\"]):\n",
    "    folium.Marker(location = [lat,lon], icon = folium.Icon(color='lightred',prefix = \"fa\",icon = 'times')).add_to(cluster1)\n",
    "\n",
    "cluster2 = plugins.MarkerCluster().add_to(folium.FeatureGroup(name = 'Parkings').add_to(m))\n",
    "for lat,lon in zip(parkings[\"lat\"],parkings[\"lon\"]):\n",
    "    folium.Marker(location = [lat,lon], icon = folium.Icon(color='lightblue',prefix = \"fa\",icon = 'circle')).add_to(cluster2)\n",
    "\n",
    "cluster3 = plugins.MarkerCluster().add_to(folium.FeatureGroup(name = 'Zonas de Carga/Descarga').add_to(m))\n",
    "for lat,lon in zip(carg[\"lat\"],carg[\"lon\"]):\n",
    "    folium.Marker(location = [lat,lon], icon = folium.Icon(color='darkgreen',prefix = \"fa\",icon = 'truck')).add_to(cluster3)\n",
    "\n",
    "cluster4 = plugins.MarkerCluster().add_to(folium.FeatureGroup(name = 'Zonas personas con discapacidad').add_to(m))\n",
    "for lat,lon in zip(mov[\"lat\"],mov[\"lon\"]):\n",
    "    folium.Marker(location = [lat,lon], icon = folium.Icon(color='pink',prefix = \"fa\",icon = 'wheelchair')).add_to(cluster4)\n",
    "\n",
    "cluster5 = plugins.MarkerCluster().add_to(folium.FeatureGroup(name = 'Zonas con limitación horaria').add_to(m))\n",
    "for color,lat,lon in zip(ora[\"Color\"],ora[\"lat\"],ora[\"lon\"]):\n",
    "  if color == \"Azul\":\n",
    "    folium.Marker(location = [lat,lon], tooltip = folium.Tooltip(text = \"Zona azul\"), icon = folium.Icon(color='blue',prefix = \"fa\",icon = 'clock-o')).add_to(cluster5)\n",
    "  elif color == \"Amarillo\":\n",
    "    folium.Marker(location = [lat,lon], tooltip = folium.Tooltip(text = \"Zona amarilla\"), icon = folium.Icon(color='beige',prefix = \"fa\",icon = 'clock-o')).add_to(cluster5)\n",
    "  elif color == \"Blanco\":\n",
    "    pass\n",
    "  elif color == \"Naranja\":\n",
    "    folium.Marker(location = [lat,lon], tooltip = folium.Tooltip(text = \"Zona naranja\"), icon = folium.Icon(color='orange',prefix = \"fa\",icon = 'clock-o')).add_to(cluster5)\n",
    "  else:\n",
    "    folium.Marker(location = [lat,lon], tooltip = folium.Tooltip(text = \"Zona verde\"), icon = folium.Icon(color='green',prefix = \"fa\",icon = 'clock-o')).add_to(cluster5)\n",
    "\n",
    "\n",
    "folium.LayerControl().add_to(m);\n",
    "\n",
    "m.save('mapa-coches.html')"
   ]
  }
 ],
 "metadata": {
  "kernelspec": {
   "display_name": "Python 3",
   "language": "python",
   "name": "python3"
  },
  "language_info": {
   "codemirror_mode": {
    "name": "ipython",
    "version": 3
   },
   "file_extension": ".py",
   "mimetype": "text/x-python",
   "name": "python",
   "nbconvert_exporter": "python",
   "pygments_lexer": "ipython3",
   "version": "3.11.3"
  },
  "orig_nbformat": 4
 },
 "nbformat": 4,
 "nbformat_minor": 2
}
