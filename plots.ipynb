{
 "cells": [
  {
   "cell_type": "code",
   "execution_count": 1,
   "metadata": {},
   "outputs": [],
   "source": [
    "import streamlit as st\n",
    "import csv\n",
    "import pandas as pd\n",
    "import plotly.express as px\n",
    "import folium\n",
    "from folium import plugins"
   ]
  },
  {
   "attachments": {},
   "cell_type": "markdown",
   "metadata": {},
   "source": [
    "## BICICLETAS"
   ]
  },
  {
   "cell_type": "code",
   "execution_count": 2,
   "metadata": {},
   "outputs": [
    {
     "data": {
      "text/html": [
       "<div>\n",
       "<style scoped>\n",
       "    .dataframe tbody tr th:only-of-type {\n",
       "        vertical-align: middle;\n",
       "    }\n",
       "\n",
       "    .dataframe tbody tr th {\n",
       "        vertical-align: top;\n",
       "    }\n",
       "\n",
       "    .dataframe thead th {\n",
       "        text-align: right;\n",
       "    }\n",
       "</style>\n",
       "<table border=\"1\" class=\"dataframe\">\n",
       "  <thead>\n",
       "    <tr style=\"text-align: right;\">\n",
       "      <th></th>\n",
       "      <th>Tipus / Tipo</th>\n",
       "      <th>Nombre Places / Número Plazas</th>\n",
       "      <th>lat</th>\n",
       "      <th>lon</th>\n",
       "    </tr>\n",
       "  </thead>\n",
       "  <tbody>\n",
       "    <tr>\n",
       "      <th>0</th>\n",
       "      <td>A - Horquilla</td>\n",
       "      <td>6</td>\n",
       "      <td>39.459078</td>\n",
       "      <td>-0.385449</td>\n",
       "    </tr>\n",
       "    <tr>\n",
       "      <th>1</th>\n",
       "      <td>A - Horquilla</td>\n",
       "      <td>8</td>\n",
       "      <td>39.471800</td>\n",
       "      <td>-0.324463</td>\n",
       "    </tr>\n",
       "    <tr>\n",
       "      <th>2</th>\n",
       "      <td>A - Horquilla</td>\n",
       "      <td>4</td>\n",
       "      <td>39.462329</td>\n",
       "      <td>-0.369685</td>\n",
       "    </tr>\n",
       "    <tr>\n",
       "      <th>3</th>\n",
       "      <td>A - Horquilla</td>\n",
       "      <td>8</td>\n",
       "      <td>39.476439</td>\n",
       "      <td>-0.364275</td>\n",
       "    </tr>\n",
       "    <tr>\n",
       "      <th>4</th>\n",
       "      <td>A - Horquilla</td>\n",
       "      <td>10</td>\n",
       "      <td>39.494033</td>\n",
       "      <td>-0.366231</td>\n",
       "    </tr>\n",
       "    <tr>\n",
       "      <th>...</th>\n",
       "      <td>...</td>\n",
       "      <td>...</td>\n",
       "      <td>...</td>\n",
       "      <td>...</td>\n",
       "    </tr>\n",
       "    <tr>\n",
       "      <th>3445</th>\n",
       "      <td>A - Horquilla</td>\n",
       "      <td>6</td>\n",
       "      <td>39.461654</td>\n",
       "      <td>-0.371580</td>\n",
       "    </tr>\n",
       "    <tr>\n",
       "      <th>3446</th>\n",
       "      <td>A - Horquilla</td>\n",
       "      <td>10</td>\n",
       "      <td>39.487174</td>\n",
       "      <td>-0.368874</td>\n",
       "    </tr>\n",
       "    <tr>\n",
       "      <th>3447</th>\n",
       "      <td>A - Horquilla</td>\n",
       "      <td>6</td>\n",
       "      <td>39.464633</td>\n",
       "      <td>-0.409697</td>\n",
       "    </tr>\n",
       "    <tr>\n",
       "      <th>3448</th>\n",
       "      <td>A - Horquilla</td>\n",
       "      <td>10</td>\n",
       "      <td>39.458098</td>\n",
       "      <td>-0.351317</td>\n",
       "    </tr>\n",
       "    <tr>\n",
       "      <th>3449</th>\n",
       "      <td>A - Horquilla</td>\n",
       "      <td>8</td>\n",
       "      <td>39.465390</td>\n",
       "      <td>-0.336725</td>\n",
       "    </tr>\n",
       "  </tbody>\n",
       "</table>\n",
       "<p>3450 rows × 4 columns</p>\n",
       "</div>"
      ],
      "text/plain": [
       "       Tipus / Tipo  Nombre Places / Número Plazas        lat       lon\n",
       "0     A - Horquilla                              6  39.459078 -0.385449\n",
       "1     A - Horquilla                              8  39.471800 -0.324463\n",
       "2     A - Horquilla                              4  39.462329 -0.369685\n",
       "3     A - Horquilla                              8  39.476439 -0.364275\n",
       "4     A - Horquilla                             10  39.494033 -0.366231\n",
       "...             ...                            ...        ...       ...\n",
       "3445  A - Horquilla                              6  39.461654 -0.371580\n",
       "3446  A - Horquilla                             10  39.487174 -0.368874\n",
       "3447  A - Horquilla                              6  39.464633 -0.409697\n",
       "3448  A - Horquilla                             10  39.458098 -0.351317\n",
       "3449  A - Horquilla                              8  39.465390 -0.336725\n",
       "\n",
       "[3450 rows x 4 columns]"
      ]
     },
     "execution_count": 2,
     "metadata": {},
     "output_type": "execute_result"
    }
   ],
   "source": [
    "bicis = pd.read_csv('aparcaments-bicicletes-aparcamientos-bicicletas.csv', sep = ';')\n",
    "bicis = bicis.drop(columns = ['OBJECTID','created_user','created_date','last_edited_user','last_edited_date','geo_shape'])\n",
    "bicis[['lat','lon']] =bicis.geo_point_2d.str.split(pat=',', expand = True)\n",
    "bicis = bicis.drop(columns = ['geo_point_2d'])\n",
    "bicis['lat'] = bicis['lat'].astype(float)\n",
    "bicis['lon'] = bicis['lon'].astype(float)\n",
    "bicis"
   ]
  },
  {
   "cell_type": "code",
   "execution_count": 5,
   "metadata": {},
   "outputs": [],
   "source": [
    "mapa = folium.Map(location=[39.4697500, -0.3773900], zoom_start=12)\n",
    "cluster = plugins.MarkerCluster().add_to(mapa)\n",
    "\n",
    "for index, row in bicis.iterrows():\n",
    "    lat = row['lat']\n",
    "    lon = row['lon']\n",
    "    text = 'Numero de plazas: '+str(row['Nombre Places / Número Plazas'])\n",
    "    folium.Marker(location=[lat,lon], popup=text, icon = folium.Icon(color='orange',prefix = 'fa', icon = 'bicycle')).add_to(cluster)\n",
    "plugins.Geocoder().add_to(mapa)\n",
    "\n",
    "mapa.save('mapa-bicicletas.html')\n"
   ]
  },
  {
   "attachments": {},
   "cell_type": "markdown",
   "metadata": {},
   "source": [
    "## MOTOS"
   ]
  },
  {
   "cell_type": "code",
   "execution_count": 7,
   "metadata": {},
   "outputs": [],
   "source": [
    "motos = pd.read_csv('aparcament-per-a-motos-aparcamiento-para-motos.csv', sep = ';')\n",
    "motos = motos.drop(columns = ['Carrer / Calle','OBJECTID','created_user','created_date','last_edited_user','last_edited_date','geo_shape'])\n",
    "motos[['lat','lon']] =motos.geo_point_2d.str.split(pat=',', expand = True)\n",
    "motos = motos.drop(columns = ['geo_point_2d'])\n",
    "motos['lat'] = motos['lat'].astype(float)\n",
    "motos['lon'] = motos['lon'].astype(float)\n",
    "mapa = folium.Map(location=[39.4697500, -0.3773900], zoom_start=12)\n",
    "cluster = plugins.MarkerCluster().add_to(mapa)\n",
    "\n",
    "for index, row in motos.iterrows():\n",
    "    lat = row['lat']\n",
    "    lon = row['lon']\n",
    "    text = 'Numero de plazas: '+str(int(row['Nombre Places / Número Plazas']))\n",
    "    folium.Marker(location=[lat,lon], popup=text, icon = folium.Icon(color='green',prefix = 'fa', icon = 'motorcycle')).add_to(cluster)\n",
    "plugins.Geocoder().add_to(mapa)\n",
    "\n",
    "mapa.save('mapa-motos.html')"
   ]
  },
  {
   "attachments": {},
   "cell_type": "markdown",
   "metadata": {},
   "source": [
    "## COCHES"
   ]
  },
  {
   "cell_type": "code",
   "execution_count": 8,
   "metadata": {},
   "outputs": [],
   "source": [
    "ora = pd.read_csv(\"aparcaments-ora-aparcamientos-ora.csv\",sep = \";\")\n",
    "mov = pd.read_csv(\"aparcaments-persones-mobilitat-reduida-aparcamientos-personas-movilidad-reducida.csv\",sep=\";\")\n",
    "vados = pd.read_csv(\"guals-vados.csv\",sep=\";\")\n",
    "parkings = pd.read_csv(\"parkings.csv\",sep=\";\")\n",
    "carg = pd.read_csv(\"zones-carrega-descarrega-zonas-carga-descarga.csv\",sep=\";\")"
   ]
  },
  {
   "cell_type": "code",
   "execution_count": 9,
   "metadata": {},
   "outputs": [],
   "source": [
    "def normalize_df(df):\n",
    "    df[\"lat\"] = [float(df[\"geo_point_2d\"][i].split(\",\")[0]) for i in range(len(df[\"geo_point_2d\"]))]\n",
    "    df[\"lon\"] = [float(df[\"geo_point_2d\"][i].split(\",\")[1]) for i in range(len(df[\"geo_point_2d\"]))]\n",
    "\n",
    "    return df"
   ]
  },
  {
   "cell_type": "code",
   "execution_count": 10,
   "metadata": {},
   "outputs": [],
   "source": [
    "ora = normalize_df(ora)\n",
    "mov = normalize_df(mov)\n",
    "vados = normalize_df(vados)\n",
    "carg = normalize_df(carg)\n",
    "parkings = normalize_df(parkings)"
   ]
  },
  {
   "cell_type": "code",
   "execution_count": 11,
   "metadata": {},
   "outputs": [],
   "source": [
    "m = folium.Map(location=[39.469, -0.377],zoom_start=13)\n",
    "plugins.Geocoder().add_to(m)\n",
    "\n",
    "cluster1 = plugins.MarkerCluster().add_to(folium.FeatureGroup(name = 'Vados').add_to(m))\n",
    "for lat,lon in zip(vados[\"lat\"],vados[\"lon\"]):\n",
    "    folium.Marker(location = [lat,lon], icon = folium.Icon(color='lightred',prefix = \"fa\",icon = 'times')).add_to(cluster1)\n",
    "\n",
    "cluster2 = plugins.MarkerCluster().add_to(folium.FeatureGroup(name = 'Parkings').add_to(m))\n",
    "for lat,lon in zip(parkings[\"lat\"],parkings[\"lon\"]):\n",
    "    folium.Marker(location = [lat,lon], icon = folium.Icon(color='lightblue',prefix = \"fa\",icon = 'product-hunt')).add_to(cluster2)\n",
    "\n",
    "cluster3 = plugins.MarkerCluster().add_to(folium.FeatureGroup(name = 'Zonas de Carga/Descarga').add_to(m))\n",
    "for lat,lon in zip(carg[\"lat\"],carg[\"lon\"]):\n",
    "    folium.Marker(location = [lat,lon], icon = folium.Icon(color='darkgreen',prefix = \"fa\",icon = 'truck')).add_to(cluster3)\n",
    "\n",
    "cluster4 = plugins.MarkerCluster().add_to(folium.FeatureGroup(name = 'Zonas personas con discapacidad').add_to(m))\n",
    "for lat,lon in zip(mov[\"lat\"],mov[\"lon\"]):\n",
    "    folium.Marker(location = [lat,lon], icon = folium.Icon(color='pink',prefix = \"fa\",icon = 'wheelchair')).add_to(cluster4)\n",
    "\n",
    "cluster5 = plugins.MarkerCluster().add_to(folium.FeatureGroup(name = 'Zonas con limitación horaria').add_to(m))\n",
    "for color,lat,lon in zip(ora[\"Color\"],ora[\"lat\"],ora[\"lon\"]):\n",
    "  if color == \"Azul\":\n",
    "    folium.Marker(location = [lat,lon], tooltip = folium.Tooltip(text = \"Zona azul\"), icon = folium.Icon(color='blue',prefix = \"fa\",icon = 'clock-o')).add_to(cluster5)\n",
    "  elif color == \"Amarillo\":\n",
    "    folium.Marker(location = [lat,lon], tooltip = folium.Tooltip(text = \"Zona amarilla\"), icon = folium.Icon(color='beige',prefix = \"fa\",icon = 'clock-o')).add_to(cluster5)\n",
    "  elif color == \"Blanco\":\n",
    "    pass\n",
    "  elif color == \"Naranja\":\n",
    "    folium.Marker(location = [lat,lon], tooltip = folium.Tooltip(text = \"Zona naranja\"), icon = folium.Icon(color='orange',prefix = \"fa\",icon = 'clock-o')).add_to(cluster5)\n",
    "  else:\n",
    "    folium.Marker(location = [lat,lon], tooltip = folium.Tooltip(text = \"Zona verde\"), icon = folium.Icon(color='green',prefix = \"fa\",icon = 'clock-o')).add_to(cluster5)\n",
    "\n",
    "\n",
    "folium.LayerControl().add_to(m);\n",
    "\n",
    "m.save('mapa-coches.html')"
   ]
  }
 ],
 "metadata": {
  "kernelspec": {
   "display_name": "Python 3",
   "language": "python",
   "name": "python3"
  },
  "language_info": {
   "codemirror_mode": {
    "name": "ipython",
    "version": 3
   },
   "file_extension": ".py",
   "mimetype": "text/x-python",
   "name": "python",
   "nbconvert_exporter": "python",
   "pygments_lexer": "ipython3",
   "version": "3.11.3"
  },
  "orig_nbformat": 4
 },
 "nbformat": 4,
 "nbformat_minor": 2
}
